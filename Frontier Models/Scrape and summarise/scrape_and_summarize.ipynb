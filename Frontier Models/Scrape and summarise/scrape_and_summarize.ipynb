{
 "cells": [
  {
   "cell_type": "code",
   "execution_count": 37,
   "id": "149ae7d3-a573-4ff9-8014-9eba7de2f60a",
   "metadata": {},
   "outputs": [],
   "source": [
    "import os\n",
    "import requests\n",
    "import openai\n",
    "from dotenv import load_dotenv\n",
    "from bs4 import BeautifulSoup\n",
    "from IPython.display import display, Markdown"
   ]
  },
  {
   "cell_type": "code",
   "execution_count": 38,
   "id": "d7f6ea4b-f82a-4a17-9629-82e31fe7640f",
   "metadata": {},
   "outputs": [],
   "source": [
    "load_dotenv()\n",
    "openai.api_key = os.environ['OPENAI_API_KEY']"
   ]
  },
  {
   "cell_type": "code",
   "execution_count": 47,
   "id": "a8eeb8c7-12a6-484a-aa23-5baa8890f358",
   "metadata": {},
   "outputs": [],
   "source": [
    "# class to scrape data from the asked website\n",
    "\n",
    "class WebSite:\n",
    "    url:str\n",
    "    title:str\n",
    "    text:str\n",
    "\n",
    "    def __init__(self,url):\n",
    "        self.url = url\n",
    "        response = requests.get(url)\n",
    "        soup = BeautifulSoup(response.content, 'html.parser')\n",
    "        self.title = soup.title.string if soup.title else \"No title found\"\n",
    "        for irrelevent in soup.body(['script', 'style', 'img', 'input']):\n",
    "            irrelevent.decompose()\n",
    "        self.text = soup.body.get_text(separator=\"/n\", strip = True)\n",
    "    "
   ]
  },
  {
   "cell_type": "code",
   "execution_count": 48,
   "id": "351bce3c-21d8-419f-b2db-726d1081fa59",
   "metadata": {},
   "outputs": [
    {
     "name": "stdout",
     "output_type": "stream",
     "text": [
      "Manu/nManu/nEducation/nProjects/nContact/nExperience/nTestimonials/nAbout/n{/n\"name\"/n:/n\"Manu Venugopal\"/n,/n\"occupation\"/n:/n\"AI Engineer\"/n,/n\"likes\"/n:/n[/n\"/nCoding/n\"/n,/n\"/nFootball/n\"/n]/n,/n}/nEducational Background/nUniversity of Aberdeeen            UK/nRegularly presented new ideas in the machine learning group of the university./nActive participant of the DataLab events./nMSc in Artifical Intelligence/n2021 - 2022/nUniversity of Calicut                    IND/nBTech in Computer Science/n2007 - 2011/nWinner of Code Debugging, Gaming and Project Presentation./nNLP Data Scientist                                         2023 - Present/nAdvanced Deep Learning Models/n:/nEngineered sophisticated deep learning models using Hugging Face Transformers to efficiently categorize unannotated text, showcasing my ability to handle complex NLP challenges/n./nOpenAI Technologies/n:/nUtilized OpenAI technologies for a diverse range of NLP tasks, including text summarization, classification, search, and sentiment analysis, enhancing operational diversity and demonstrating adaptability to various project needs/n./nInnovative Model Enhancements/n:/nAchieved significant model enhancements by introducing innovative features, which boosted performance and secured two new clients, directly contributing to a 3% increase in company revenue./nOptimized LLMs/n:/nApplied cutting-edge techniques like Parameter-Efficient Fine-Tuning (PEFT) and Low-Rank Adaptation (LoRA) to optimize Large Language Models for critical NLP tasks, resulting in superior model efficiency./nFew-Shot Classification Model/n:/nRecognized internally for developing a state-of-the-art few-shot classification model that achieved remarkable sentence classification accuracy of over 98%, underscoring my technical prowess and innovative thinking./nCloud and NLP Proficiency/n:/nLeveraged AWS and Azure cloud services, along with advanced NLP models such as Hugging Face’s Mistral AI and SetFit classifier, and OpenAI technologies. Demonstrated proficiency in Python and PyTorch for developing, optimizing, and deploying machine learning solutions./nClient Appreciation/n:/nReceived client appreciation for developing an advanced meeting notes and summarization tool (using OpenAI and LangChain) reflecting my commitment to delivering impactful and user-centric solutions./nSenior Software Engineer                              2016 - 2021/nSenior Software Engineer                                   2015 - 2016/nUser Action Test Frameworks/n:/nDeveloped comprehensive test frameworks for the Configuration Desk tool components. This included areas such as configuration, IO function topology, model topology, hardware topology, and device topology, ensuring thorough and efficient testing processes/n./nAutomated Test Cases/n:/nImplemented Python-based test cases to automate the verification of Configuration Desk components. Additionally, utilized C# with XML input files to create a test framework leveraging the N-Unit framework and Test Driven .Net add-in, significantly enhancing testing efficiency and accuracy./nClient Appreciation Awards/n:/nHonored with client appreciation awards twice for writing excellent test automation code and for creating an internal tool that generated quality test cases for various configuration inputs. These accolades reflect my dedication to delivering high-quality solutions and my ability to meet and exceed client expectations/n./nCross-Functional Team Collaboration/n:/nWorked closely with diverse teams to develop innovative solutions aimed at improving business processes and boosting overall efficiency. This collaborative approach fostered a dynamic and productive work environment./nSales Forecasting and Customer Segmentation/n:/nRevolutionized sales forecasting and customer segmentation by designing and implementing cutting-edge machine learning algorithms. These advancements significantly enhanced the accuracy of predictions and provided actionable insights, driving better business decisions./nNLP Model Development/n:/nSpearheaded the development of advanced Natural Language Processing (NLP) models for sentiment analysis and text classification. These models enhanced the understanding of customer feedback and market trends, allowing for more informed strategic planning./nFinFame Award/n:/nHonored with the prestigious FinFame award for successfully rectifying 35 pre-existing bugs and delivering an outstanding year-end project. This recognition underscores my commitment to quality and excellence in project delivery./nHackathon Success/n:/nAchieved runner-up status in the Finatra Lake Mary USA hackathon, demonstrating my ability to excel in competitive, fast-paced environments and my aptitude for innovative problem-solving./nMy Work Experience/nMy Works/nFew shot prompt using OpenAI/nPortfolio/nProject Overview/n: Developed a few-shot classification model using OpenAI's advanced language models, enabling accurate classification with minimal labeled data./nModel Design/n: Leveraged OpenAI's powerful natural language processing capabilities to design a few-shot classification system, significantly reducing the need for extensive training datasets./nPerformance/n: Achieved remarkable classification accuracy of over 98%, demonstrating the efficacy of few-shot learning in real-world applications./nImplementation/n: Utilized OpenAI's GPT-3 and later models, applying state-of-the-art techniques to fine-tune the model for specific classification tasks./nImpact/n: Enabled rapid deployment of classification solutions in scenarios with limited labeled data, enhancing operational efficiency and decision-making processes./nRecognition/n: Received internal recognition for innovation and effectiveness in applying few-shot learning to complex classification problems./nGithub/nSpeech to Text using OpenAI Whisper/nProject Overview/n: Developed a highly accurate speech-to-text system using OpenAI's Whisper model, transforming spoken language into written text with exceptional precision./nModel Implementation/n: Utilized the OpenAI Whisper model, known for its robust speech recognition capabilities, to convert audio inputs into text across various languages and accents./nAccuracy/n: Achieved state-of-the-art transcription accuracy, significantly reducing errors compared to traditional speech recognition systems./nUse Cases/n: Applied the Whisper model for diverse applications including transcribing meeting notes, generating subtitles for videos, and assisting in real-time communication tools./nIntegration/n: Seamlessly integrated the speech-to-text functionality into existing workflows, providing users with an intuitive and efficient way to handle audio data./nImpact/n: Improved productivity and accessibility by enabling accurate and automated transcription, thus facilitating better documentation and information retrieval./nRecognition/n: Received positive feedback for the system's reliability and accuracy, leading to increased adoption and satisfaction among end-users./nGithub/nLangChain Bootcamp/nProject Overview/n: Conducted an intensive LangChain Bootcamp covering core topics and advanced techniques to empower participants with comprehensive knowledge of LangChain./nModel/n: Explored various models supported by LangChain, focusing on selecting and fine-tuning models for specific use cases./nData Connection/n: Demonstrated how to connect and integrate different data sources with LangChain, ensuring seamless data flow and accessibility./nChains/n: Explained the concept of chains in LangChain, teaching how to build and manage complex workflows that automate sequential tasks./nAccuracy/n: Achieved state-of-the-art transcription accuracy, significantly reducing errors compared to traditional speech recognition systems./nUse Cases/n: Applied the Whisper model for diverse applications including transcribing meeting notes, generating subtitles for videos, and assisting in real-time communication tools./nIntegration/n: Seamlessly integrated the speech-to-text functionality into existing workflows, providing users with an intuitive and efficient way to handle audio data./nImpact/n: Improved productivity and accessibility by enabling accurate and automated transcription, thus facilitating better documentation and information retrieval./nRecognition/n: Received positive feedback for the system's reliability and accuracy, leading to increased adoption and satisfaction among end-users./nMemory/n: Covered the memory capabilities of LangChain, including how to store and retrieve information across sessions to maintain context and enhance interactions./nAgents/n: Introduced the use of agents within LangChain, showing how to create intelligent agents that can autonomously perform tasks and make decisions based on provided data and context./nHands-On Projects/n: Facilitated hands-on projects and practical exercises for participants to apply the concepts learned, ensuring a practical understanding of LangChain's capabilities./nOutcomes/n: Equipped participants with the skills to leverage LangChain for building sophisticated AI-driven solutions, enhancing their ability to tackle real-world challenges effectively./nGithub/nCertificate/nFinetune LLM using LoRA and QLora/nProject Overview/n: Developed a robust and efficient fine-tuning pipeline for a Large Language Model (LLM) using Low-Rank Adaptation (LoRA) and Quantized Low-Rank Adaptation (QLoRA), optimizing model performance and reducing computational requirements./nModel/n: Conducted experiments using the Falcon-7B model as the base LLM./nAccuracy/n: Achieved state-of-the-art transcription accuracy, almost equals to the accuracy when training the entire nuerons in LLM./nUse Cases/n: Applied the fine-tuned model to various tasks, including generating responses to custom datasets and performing inference on specific queries. Demonstrated the model's versatility in handling diverse language processing tasks./nIntegration/n: Seamlessly incorporated the fine-tuned LLM into existing AI workflows, ensuring smooth deployment and utilization in practical applications./nImpact/n: Enhanced model efficiency, making it feasible to deploy LLMs in resource-constrained environments. Reduced model size when compared to model after training entire neuron, thus making it executable with system with lower GPU configurations./nRecognition/n: Received positive feedback for the innovative approach and practical applicability of the project, leading to increased interest and adoption./nGithub/nExtracting complex information from PDF/nProject Overview/n: Developed a system to extract text from PDF documents with complex structures like tables and format the output in JSON./nModel/n: Used OpenAI models and LangChain to accurately extract text from tables within PDF files./nLibraries Used/n:  Used PyPDF2 from PyPDFLoader for basic text extraction from straightforward PDF layouts and Leveraged PyMuPDF (fitz) from PyMuPDFLoader for advanced extraction from PDFs with complex layouts and images./nExtraction Process/n: Combined PyPDFLoader and PyMuPDFLoader to process PDFs, and used OpenAI models to extract and structure text in JSON format./nImpact/n: Enhanced text extraction capabilities for complex PDF documents, enabling structured JSON outputs for improved data integration and workflow efficiency./nRecognition/n: Received positive feedback for significantly improving the accuracy and efficiency of text extraction from complex PDFs, leading to increased adoption and satisfaction among users who handle large volumes of unstructured documents./nGithub/nConversationsal chatbot using RAG Approach/nProject Overview:/nDeveloped a RAG (Retrieval-Augmented Generation) conversational chatbot that processes and understands content from supplied PDF files, enabling users to interact and query based on the document content./nModel Implementation:/nUtilized OpenAI's models to process and extract text from PDF documents, convert it into vector embeddings, and set up a conversational retrieval system./nAccuracy:/nAchieved precise text extraction and reliable vector representation of document content, facilitating accurate and context-aware responses to user queries./nUse Cases:/nApplied the chatbot for various applications such as customer support, information retrieval from technical manuals, and academic research assistance./nIntegration:/nSeamlessly integrated the chatbot into a user-friendly Streamlit UI, allowing users to upload PDF files and interact with the extracted content through a conversational interface./nRecognition:/nReceived positive feedback for the innovative approach and practical utility of the chatbot, leading to increased user engagement and satisfaction./nGithub/nChatbot with Text to Speech using RAG/nProject Overview:/nProject Overview:/nDeveloped a user-friendly Streamlit-based RAG conversational chatbot that integrates text-to-speech capabilities, utilizing OpenAI ADA embeddings and OpenAI's chat models./nModel Implementation:/nEmployed OpenAI models for embedding and language understanding, integrated with a vector database for efficient information retrieval./nAccuracy:/nAchieved high precision in retrieving and generating contextually relevant responses from the PDF content./nUse Cases:/nUsed for interactive document querying, virtual assistants, and educational tools./nIntegration:/nIntegrated into a Streamlit UI, allowing users to upload PDFs, query them, and receive spoken responses./nImpact:/nEnhanced user interaction with documents by providing an intuitive, voice-enabled querying experience./nRecognition:/nReceived positive feedback for improving document accessibility and user engagement through conversational AI and text-to-speech integration./nGithub/nExploring powerful Autogen (agent from system Microsoft)/nProject Overview:/nDeveloped an automated system using Autogen to plot stock price changes, enhancing data visualization capabilities./nModel Implementation:/nUtilized Autogen's configuration and agent system to automate tasks and generate plots./nAccuracy:/nAccuracy:/nEnsured accurate data visualization by retrieving and plotting stock prices for META and TESLA./nUse Cases:/nApplied to financial data analysis, enabling automated generation of stock price charts for better decision-making./nIntegration:/nIntegrated into an automated workflow, allowing seamless interaction between user proxies and Autogen assistants for task execution./nImpact:/nImproved efficiency in data visualization and analysis by automating the process of plotting stock prices./nRecognition:/nReceived positive feedback for streamlining financial data visualization, enhancing user experience and productivity./nGithub/nMulti-Agent Business Consultant using CrewAI and Streamlit/nProject Overview:/nDeveloped a multi-agent business consultant application leveraging CrewAI and Streamlit to provide comprehensive business advice through interactive consultations./nModel Implementation:/nUtilized CrewAI to coordinate multiple agents, each specialized in different business domains, to offer holistic advice to users./nAccuracy:/nEnsured precise and relevant business recommendations by integrating domain-specific expertise within the multi-agent framework./nUse Cases:/nApplied to diverse business scenarios including financial planning, marketing strategy, and operational optimization./nIntegration:/nIncorporated into a Streamlit UI, providing users with an intuitive platform to interact with the business consultant agents./nImpact:/nEnhanced decision-making processes for businesses by offering multi-faceted and expert-driven advice through a user-friendly interface./nRecognition:/nReceived positive feedback for improving the accessibility and quality of business consultancy services, leading to higher user satisfaction and engagement./nGithub/nSummarization and Key point extraction using GPT4o/nProject Overview:/nDeveloped a system to summarize conversations and extract key points from dialogues, using a sample conversation between a financial agent and a customer seeking low-risk investment advice./nModel Implementation:/nEmployed LangChain and OpenAI GPT-3.5 Turbo and GPT-4o models to extract summaries and key points from the transcript./nAccuracy:/nValidated the model's output against the transcript to ensure accuracy and prevent hallucinations, identifying specific parts of the transcript corresponding to each key point./nUse Cases:/nApplied for summarizing financial consultations, extracting actionable advice, and improving documentation processes./nIntegration:/nCompared the results with legacy models like GPT-3.5 Turbo and recent models like GPT-4o for performance evaluation./nImpact:/nImproved the reliability of conversation summarization and key point extraction, enhancing the efficiency of financial advisory services./nRecognition:/nReceived positive feedback for enhancing accuracy and usability in summarizing financial consultations and extracting key insights./nGithub/nCertificate/nAbout Me/nI'm a passionate and versatile software engineer with proficiency in a diverse range of technologies, including PyTorch, C#, Python, TypeScript, HTML, and/nASP.NET/n./nMy journey in the tech world has been marked by innovation, collaboration, and a commitment to excellence/nPortfolio/nOne of my significant achievements includes co-creating an NLP application, where I not only implemented cutting-edge features but also prioritized robust security protocols to ensure user data integrity/n./nThis experience reflects my dedication to delivering solutions that not only push technological boundaries but also prioritize user trust and data privacy./nBeyond my core projects, I actively contribute to open-source initiatives, firmly believing in the power of knowledge sharing and collaborative development./nIt's my way of giving back to the tech community and staying engaged with the latest industry trends./nMy Skills/nPython/nC#/C++/C/nLangChain/nHTML/CSS/nPyTorch/nMachine Learning/nSQL/n.NET/nMongoDB/nAWS/nNLP/nAzure/nOpenAI/nHugging Face/nPortfolio/n★★★★★/n\"Working with Manu was a fantastic experience. His expertise in NLP, machine learning and software engineering was instrumental in several key projects. His problem-solving skills and innovative approach always brought fresh perspectives to our team discussions. Beyond his technical skills, Manu is a great team player and was always willing to help others, making them an invaluable asset to our team.\"/n-/nSandya Ravi, Senior Engineer/n\"Manu was an exceptional student during our MSc in Artificial Intelligence program. His active participation in Data Lab events and contributions to group projects were impressive. Manu displayed a strong grasp of AI concepts and consistently produced high-quality work. Their enthusiasm for AI and dedication to learning made them a standout in our cohort. I have no doubt that Manu will continue to excel in their professional endeavors.\"/n-/nNancy, University of Aberdeen/n★★★★★/n\"Manu consistently demonstrated a deep understanding of complex software engineering. He played a crucial role in optimizing our large language models, which led to significant performance improvements and directly contributed to client acquisition.  Manu's proactive nature and commitment to excellence were evident in every project they undertook.\"/n-/nSanthosh Kumar,  Manager/n★★★★★/nTestimonials/nWanna talk?/nName*/nYour email*/nMessage*/nSubmit/nContact me with any questions or just to say a few nice words ... or mean ones. Up to you .... free will and all/n© 2024 Manu Venugopal\n"
     ]
    }
   ],
   "source": [
    "manu = WebSite(\"https://manuvenugopal.com\")\n",
    "\n",
    "print(manu.text)"
   ]
  },
  {
   "cell_type": "code",
   "execution_count": 41,
   "id": "38ec5c2e-7228-47b4-91fe-efa9b45460a0",
   "metadata": {},
   "outputs": [],
   "source": [
    "# System Prompts\n",
    "\n",
    "system_prompt = \"You are an assistant that analyses the content of the website and provide a short summary, \\\n",
    "ignoring the text that might be navigation related. Respond in markdown.\""
   ]
  },
  {
   "cell_type": "code",
   "execution_count": 42,
   "id": "e703046a-1a74-4e1a-95ad-a9c28693c577",
   "metadata": {},
   "outputs": [],
   "source": [
    "# User Prompts\n",
    "\n",
    "def user_prompt_for(website):\n",
    "    user_prompt = f\"you are looking at a website titled {website.title}\"\n",
    "    user_prompt += \"please provide a shoert summary of this website in markdown.\\\n",
    "    if it includes news or announcemnts, then summarizes this too. \\n\\n\"\n",
    "\n",
    "    user_prompt += website.text\n",
    "    return user_prompt"
   ]
  },
  {
   "cell_type": "code",
   "execution_count": 43,
   "id": "4e7c64a6-0a3c-4f33-9481-3f478748e9c8",
   "metadata": {},
   "outputs": [],
   "source": [
    "# Messages\n",
    "\n",
    "def messages_for(website):\n",
    "    return [\n",
    "        {\"role\": \"system\", \"content\":system_prompt},\n",
    "        {\"role\": \"user\", \"content\":user_prompt_for(website)}\n",
    "    ]"
   ]
  },
  {
   "cell_type": "code",
   "execution_count": 44,
   "id": "e98289a1-41f5-479c-bb6e-1a74b49c5d18",
   "metadata": {},
   "outputs": [
    {
     "name": "stdout",
     "output_type": "stream",
     "text": [
      "[{'role': 'system', 'content': 'You are an assistant that analyses the content of the website and provide a short summary, ignoring the text that might be navigation related. Respond in markdown.'}, {'role': 'user', 'content': 'you are looking at a website titled Manuplease provide a shoert summary of this website in markdown.    if it includes news or announcemnts, then summarizes this too. \\n\\nManu/nManu/nEducation/nProjects/nContact/nExperience/nTestimonials/nAbout/n{/n\"name\"/n:/n\"Manu Venugopal\"/n,/n\"occupation\"/n:/n\"AI Engineer\"/n,/n\"likes\"/n:/n[/n\"/nCoding/n\"/n,/n\"/nFootball/n\"/n]/n,/n}/nEducational Background/nUniversity of Aberdeeen            UK/nRegularly presented new ideas in the machine learning group of the university./nActive participant of the DataLab events./nMSc in Artifical Intelligence/n2021 - 2022/nUniversity of Calicut                    IND/nBTech in Computer Science/n2007 - 2011/nWinner of Code Debugging, Gaming and Project Presentation./nNLP Data Scientist                                         2023 - Present/nAdvanced Deep Learning Models/n:/nEngineered sophisticated deep learning models using Hugging Face Transformers to efficiently categorize unannotated text, showcasing my ability to handle complex NLP challenges/n./nOpenAI Technologies/n:/nUtilized OpenAI technologies for a diverse range of NLP tasks, including text summarization, classification, search, and sentiment analysis, enhancing operational diversity and demonstrating adaptability to various project needs/n./nInnovative Model Enhancements/n:/nAchieved significant model enhancements by introducing innovative features, which boosted performance and secured two new clients, directly contributing to a 3% increase in company revenue./nOptimized LLMs/n:/nApplied cutting-edge techniques like Parameter-Efficient Fine-Tuning (PEFT) and Low-Rank Adaptation (LoRA) to optimize Large Language Models for critical NLP tasks, resulting in superior model efficiency./nFew-Shot Classification Model/n:/nRecognized internally for developing a state-of-the-art few-shot classification model that achieved remarkable sentence classification accuracy of over 98%, underscoring my technical prowess and innovative thinking./nCloud and NLP Proficiency/n:/nLeveraged AWS and Azure cloud services, along with advanced NLP models such as Hugging Face’s Mistral AI and SetFit classifier, and OpenAI technologies. Demonstrated proficiency in Python and PyTorch for developing, optimizing, and deploying machine learning solutions./nClient Appreciation/n:/nReceived client appreciation for developing an advanced meeting notes and summarization tool (using OpenAI and LangChain) reflecting my commitment to delivering impactful and user-centric solutions./nSenior Software Engineer                              2016 - 2021/nSenior Software Engineer                                   2015 - 2016/nUser Action Test Frameworks/n:/nDeveloped comprehensive test frameworks for the Configuration Desk tool components. This included areas such as configuration, IO function topology, model topology, hardware topology, and device topology, ensuring thorough and efficient testing processes/n./nAutomated Test Cases/n:/nImplemented Python-based test cases to automate the verification of Configuration Desk components. Additionally, utilized C# with XML input files to create a test framework leveraging the N-Unit framework and Test Driven .Net add-in, significantly enhancing testing efficiency and accuracy./nClient Appreciation Awards/n:/nHonored with client appreciation awards twice for writing excellent test automation code and for creating an internal tool that generated quality test cases for various configuration inputs. These accolades reflect my dedication to delivering high-quality solutions and my ability to meet and exceed client expectations/n./nCross-Functional Team Collaboration/n:/nWorked closely with diverse teams to develop innovative solutions aimed at improving business processes and boosting overall efficiency. This collaborative approach fostered a dynamic and productive work environment./nSales Forecasting and Customer Segmentation/n:/nRevolutionized sales forecasting and customer segmentation by designing and implementing cutting-edge machine learning algorithms. These advancements significantly enhanced the accuracy of predictions and provided actionable insights, driving better business decisions./nNLP Model Development/n:/nSpearheaded the development of advanced Natural Language Processing (NLP) models for sentiment analysis and text classification. These models enhanced the understanding of customer feedback and market trends, allowing for more informed strategic planning./nFinFame Award/n:/nHonored with the prestigious FinFame award for successfully rectifying 35 pre-existing bugs and delivering an outstanding year-end project. This recognition underscores my commitment to quality and excellence in project delivery./nHackathon Success/n:/nAchieved runner-up status in the Finatra Lake Mary USA hackathon, demonstrating my ability to excel in competitive, fast-paced environments and my aptitude for innovative problem-solving./nMy Work Experience/nMy Works/nFew shot prompt using OpenAI/nPortfolio/nProject Overview/n: Developed a few-shot classification model using OpenAI\\'s advanced language models, enabling accurate classification with minimal labeled data./nModel Design/n: Leveraged OpenAI\\'s powerful natural language processing capabilities to design a few-shot classification system, significantly reducing the need for extensive training datasets./nPerformance/n: Achieved remarkable classification accuracy of over 98%, demonstrating the efficacy of few-shot learning in real-world applications./nImplementation/n: Utilized OpenAI\\'s GPT-3 and later models, applying state-of-the-art techniques to fine-tune the model for specific classification tasks./nImpact/n: Enabled rapid deployment of classification solutions in scenarios with limited labeled data, enhancing operational efficiency and decision-making processes./nRecognition/n: Received internal recognition for innovation and effectiveness in applying few-shot learning to complex classification problems./nGithub/nSpeech to Text using OpenAI Whisper/nProject Overview/n: Developed a highly accurate speech-to-text system using OpenAI\\'s Whisper model, transforming spoken language into written text with exceptional precision./nModel Implementation/n: Utilized the OpenAI Whisper model, known for its robust speech recognition capabilities, to convert audio inputs into text across various languages and accents./nAccuracy/n: Achieved state-of-the-art transcription accuracy, significantly reducing errors compared to traditional speech recognition systems./nUse Cases/n: Applied the Whisper model for diverse applications including transcribing meeting notes, generating subtitles for videos, and assisting in real-time communication tools./nIntegration/n: Seamlessly integrated the speech-to-text functionality into existing workflows, providing users with an intuitive and efficient way to handle audio data./nImpact/n: Improved productivity and accessibility by enabling accurate and automated transcription, thus facilitating better documentation and information retrieval./nRecognition/n: Received positive feedback for the system\\'s reliability and accuracy, leading to increased adoption and satisfaction among end-users./nGithub/nLangChain Bootcamp/nProject Overview/n: Conducted an intensive LangChain Bootcamp covering core topics and advanced techniques to empower participants with comprehensive knowledge of LangChain./nModel/n: Explored various models supported by LangChain, focusing on selecting and fine-tuning models for specific use cases./nData Connection/n: Demonstrated how to connect and integrate different data sources with LangChain, ensuring seamless data flow and accessibility./nChains/n: Explained the concept of chains in LangChain, teaching how to build and manage complex workflows that automate sequential tasks./nAccuracy/n: Achieved state-of-the-art transcription accuracy, significantly reducing errors compared to traditional speech recognition systems./nUse Cases/n: Applied the Whisper model for diverse applications including transcribing meeting notes, generating subtitles for videos, and assisting in real-time communication tools./nIntegration/n: Seamlessly integrated the speech-to-text functionality into existing workflows, providing users with an intuitive and efficient way to handle audio data./nImpact/n: Improved productivity and accessibility by enabling accurate and automated transcription, thus facilitating better documentation and information retrieval./nRecognition/n: Received positive feedback for the system\\'s reliability and accuracy, leading to increased adoption and satisfaction among end-users./nMemory/n: Covered the memory capabilities of LangChain, including how to store and retrieve information across sessions to maintain context and enhance interactions./nAgents/n: Introduced the use of agents within LangChain, showing how to create intelligent agents that can autonomously perform tasks and make decisions based on provided data and context./nHands-On Projects/n: Facilitated hands-on projects and practical exercises for participants to apply the concepts learned, ensuring a practical understanding of LangChain\\'s capabilities./nOutcomes/n: Equipped participants with the skills to leverage LangChain for building sophisticated AI-driven solutions, enhancing their ability to tackle real-world challenges effectively./nGithub/nCertificate/nFinetune LLM using LoRA and QLora/nProject Overview/n: Developed a robust and efficient fine-tuning pipeline for a Large Language Model (LLM) using Low-Rank Adaptation (LoRA) and Quantized Low-Rank Adaptation (QLoRA), optimizing model performance and reducing computational requirements./nModel/n: Conducted experiments using the Falcon-7B model as the base LLM./nAccuracy/n: Achieved state-of-the-art transcription accuracy, almost equals to the accuracy when training the entire nuerons in LLM./nUse Cases/n: Applied the fine-tuned model to various tasks, including generating responses to custom datasets and performing inference on specific queries. Demonstrated the model\\'s versatility in handling diverse language processing tasks./nIntegration/n: Seamlessly incorporated the fine-tuned LLM into existing AI workflows, ensuring smooth deployment and utilization in practical applications./nImpact/n: Enhanced model efficiency, making it feasible to deploy LLMs in resource-constrained environments. Reduced model size when compared to model after training entire neuron, thus making it executable with system with lower GPU configurations./nRecognition/n: Received positive feedback for the innovative approach and practical applicability of the project, leading to increased interest and adoption./nGithub/nExtracting complex information from PDF/nProject Overview/n: Developed a system to extract text from PDF documents with complex structures like tables and format the output in JSON./nModel/n: Used OpenAI models and LangChain to accurately extract text from tables within PDF files./nLibraries Used/n:  Used PyPDF2 from PyPDFLoader for basic text extraction from straightforward PDF layouts and Leveraged PyMuPDF (fitz) from PyMuPDFLoader for advanced extraction from PDFs with complex layouts and images./nExtraction Process/n: Combined PyPDFLoader and PyMuPDFLoader to process PDFs, and used OpenAI models to extract and structure text in JSON format./nImpact/n: Enhanced text extraction capabilities for complex PDF documents, enabling structured JSON outputs for improved data integration and workflow efficiency./nRecognition/n: Received positive feedback for significantly improving the accuracy and efficiency of text extraction from complex PDFs, leading to increased adoption and satisfaction among users who handle large volumes of unstructured documents./nGithub/nConversationsal chatbot using RAG Approach/nProject Overview:/nDeveloped a RAG (Retrieval-Augmented Generation) conversational chatbot that processes and understands content from supplied PDF files, enabling users to interact and query based on the document content./nModel Implementation:/nUtilized OpenAI\\'s models to process and extract text from PDF documents, convert it into vector embeddings, and set up a conversational retrieval system./nAccuracy:/nAchieved precise text extraction and reliable vector representation of document content, facilitating accurate and context-aware responses to user queries./nUse Cases:/nApplied the chatbot for various applications such as customer support, information retrieval from technical manuals, and academic research assistance./nIntegration:/nSeamlessly integrated the chatbot into a user-friendly Streamlit UI, allowing users to upload PDF files and interact with the extracted content through a conversational interface./nRecognition:/nReceived positive feedback for the innovative approach and practical utility of the chatbot, leading to increased user engagement and satisfaction./nGithub/nChatbot with Text to Speech using RAG/nProject Overview:/nProject Overview:/nDeveloped a user-friendly Streamlit-based RAG conversational chatbot that integrates text-to-speech capabilities, utilizing OpenAI ADA embeddings and OpenAI\\'s chat models./nModel Implementation:/nEmployed OpenAI models for embedding and language understanding, integrated with a vector database for efficient information retrieval./nAccuracy:/nAchieved high precision in retrieving and generating contextually relevant responses from the PDF content./nUse Cases:/nUsed for interactive document querying, virtual assistants, and educational tools./nIntegration:/nIntegrated into a Streamlit UI, allowing users to upload PDFs, query them, and receive spoken responses./nImpact:/nEnhanced user interaction with documents by providing an intuitive, voice-enabled querying experience./nRecognition:/nReceived positive feedback for improving document accessibility and user engagement through conversational AI and text-to-speech integration./nGithub/nExploring powerful Autogen (agent from system Microsoft)/nProject Overview:/nDeveloped an automated system using Autogen to plot stock price changes, enhancing data visualization capabilities./nModel Implementation:/nUtilized Autogen\\'s configuration and agent system to automate tasks and generate plots./nAccuracy:/nAccuracy:/nEnsured accurate data visualization by retrieving and plotting stock prices for META and TESLA./nUse Cases:/nApplied to financial data analysis, enabling automated generation of stock price charts for better decision-making./nIntegration:/nIntegrated into an automated workflow, allowing seamless interaction between user proxies and Autogen assistants for task execution./nImpact:/nImproved efficiency in data visualization and analysis by automating the process of plotting stock prices./nRecognition:/nReceived positive feedback for streamlining financial data visualization, enhancing user experience and productivity./nGithub/nMulti-Agent Business Consultant using CrewAI and Streamlit/nProject Overview:/nDeveloped a multi-agent business consultant application leveraging CrewAI and Streamlit to provide comprehensive business advice through interactive consultations./nModel Implementation:/nUtilized CrewAI to coordinate multiple agents, each specialized in different business domains, to offer holistic advice to users./nAccuracy:/nEnsured precise and relevant business recommendations by integrating domain-specific expertise within the multi-agent framework./nUse Cases:/nApplied to diverse business scenarios including financial planning, marketing strategy, and operational optimization./nIntegration:/nIncorporated into a Streamlit UI, providing users with an intuitive platform to interact with the business consultant agents./nImpact:/nEnhanced decision-making processes for businesses by offering multi-faceted and expert-driven advice through a user-friendly interface./nRecognition:/nReceived positive feedback for improving the accessibility and quality of business consultancy services, leading to higher user satisfaction and engagement./nGithub/nSummarization and Key point extraction using GPT4o/nProject Overview:/nDeveloped a system to summarize conversations and extract key points from dialogues, using a sample conversation between a financial agent and a customer seeking low-risk investment advice./nModel Implementation:/nEmployed LangChain and OpenAI GPT-3.5 Turbo and GPT-4o models to extract summaries and key points from the transcript./nAccuracy:/nValidated the model\\'s output against the transcript to ensure accuracy and prevent hallucinations, identifying specific parts of the transcript corresponding to each key point./nUse Cases:/nApplied for summarizing financial consultations, extracting actionable advice, and improving documentation processes./nIntegration:/nCompared the results with legacy models like GPT-3.5 Turbo and recent models like GPT-4o for performance evaluation./nImpact:/nImproved the reliability of conversation summarization and key point extraction, enhancing the efficiency of financial advisory services./nRecognition:/nReceived positive feedback for enhancing accuracy and usability in summarizing financial consultations and extracting key insights./nGithub/nCertificate/nAbout Me/nI\\'m a passionate and versatile software engineer with proficiency in a diverse range of technologies, including PyTorch, C#, Python, TypeScript, HTML, and/nASP.NET/n./nMy journey in the tech world has been marked by innovation, collaboration, and a commitment to excellence/nPortfolio/nOne of my significant achievements includes co-creating an NLP application, where I not only implemented cutting-edge features but also prioritized robust security protocols to ensure user data integrity/n./nThis experience reflects my dedication to delivering solutions that not only push technological boundaries but also prioritize user trust and data privacy./nBeyond my core projects, I actively contribute to open-source initiatives, firmly believing in the power of knowledge sharing and collaborative development./nIt\\'s my way of giving back to the tech community and staying engaged with the latest industry trends./nMy Skills/nPython/nC#/C++/C/nLangChain/nHTML/CSS/nPyTorch/nMachine Learning/nSQL/n.NET/nMongoDB/nAWS/nNLP/nAzure/nOpenAI/nHugging Face/nPortfolio/n★★★★★/n\"Working with Manu was a fantastic experience. His expertise in NLP, machine learning and software engineering was instrumental in several key projects. His problem-solving skills and innovative approach always brought fresh perspectives to our team discussions. Beyond his technical skills, Manu is a great team player and was always willing to help others, making them an invaluable asset to our team.\"/n-/nSandya Ravi, Senior Engineer/n\"Manu was an exceptional student during our MSc in Artificial Intelligence program. His active participation in Data Lab events and contributions to group projects were impressive. Manu displayed a strong grasp of AI concepts and consistently produced high-quality work. Their enthusiasm for AI and dedication to learning made them a standout in our cohort. I have no doubt that Manu will continue to excel in their professional endeavors.\"/n-/nNancy, University of Aberdeen/n★★★★★/n\"Manu consistently demonstrated a deep understanding of complex software engineering. He played a crucial role in optimizing our large language models, which led to significant performance improvements and directly contributed to client acquisition.  Manu\\'s proactive nature and commitment to excellence were evident in every project they undertook.\"/n-/nSanthosh Kumar,  Manager/n★★★★★/nTestimonials/nWanna talk?/nName*/nYour email*/nMessage*/nSubmit/nContact me with any questions or just to say a few nice words ... or mean ones. Up to you .... free will and all/n© 2024 Manu Venugopal'}]\n"
     ]
    }
   ],
   "source": [
    "# Model Caling\n",
    "\n",
    "print(messages_for(manu))"
   ]
  },
  {
   "cell_type": "code",
   "execution_count": 51,
   "id": "33e7068c-b888-4cbc-9ba5-f2621c8219ca",
   "metadata": {},
   "outputs": [],
   "source": [
    "# Summarize the given website\n",
    "def summarize_text(url):\n",
    "    website = WebSite(url)\n",
    "    response = openai.chat.completions.create(\n",
    "        model = \"gpt-4o-2024-08-06\",\n",
    "        messages=messages_for(website)\n",
    "    )\n",
    "    return response.choices[0].message.content"
   ]
  },
  {
   "cell_type": "code",
   "execution_count": 53,
   "id": "67c051b3-1226-4ecf-8c1b-8c2508375683",
   "metadata": {},
   "outputs": [
    {
     "data": {
      "text/plain": [
       "\"# Manu Venugopal - AI Engineer\\n\\nThe website showcases the professional profile and work of Manu Venugopal, an AI Engineer with expertise in machine learning, natural language processing, and software engineering.\\n\\n## Education\\n- **MSc in Artificial Intelligence** from the University of Aberdeen, UK (2021-2022).\\n- **BTech in Computer Science** from the University of Calicut, India (2007-2011).\\n\\n## Experience\\n- **NLP Data Scientist (2023 - Present)**: Developed sophisticated NLP models using Hugging Face Transformers and OpenAI technologies, achieving high performance in text classification and sentiment analysis.\\n- **Senior Software Engineer (2015 - 2021)**: Known for creating innovative testing frameworks and optimizing business processes through collaborative efforts and advanced algorithms.\\n\\n## Key Projects\\n- Developed a **few-shot classification model** using OpenAI's models with remarkable accuracy.\\n- Created a **speech-to-text system** using OpenAI's Whisper, achieving state-of-the-art transcription accuracy.\\n- Conducted **LangChain Bootcamps** and implemented advanced NLP projects like a conversational chatbot and a multi-agent business consultant system.\\n\\n## Recognition\\n- Received several client appreciation awards and internal recognition for his contributions to NLP innovations and performance optimizations that improved client acquisition and company revenue by 3%.\\n- Honored with the **FinFame award** for excellent project delivery and problem-solving prowess.\\n\\n## Tools and Skills\\nProficient in languages and technologies such as Python, C#, LangChain, PyTorch, AWS, and Azure, Manu is dedicated to leveraging cutting-edge AI solutions and actively participates in open-source projects to contribute to the tech community.\\n\\n## Testimonials\\nManu is highly praised for his problem-solving skills, innovative approach, and being an invaluable team member who enhances project outcomes and fosters an excellent collaborative environment.\""
      ]
     },
     "execution_count": 53,
     "metadata": {},
     "output_type": "execute_result"
    }
   ],
   "source": [
    "summary = summarize_text(\"https://manuvenugopal.com\")\n",
    "summary"
   ]
  },
  {
   "cell_type": "code",
   "execution_count": 54,
   "id": "cdca91c0-adf4-4bed-81fb-5a10e1115d89",
   "metadata": {},
   "outputs": [],
   "source": [
    "# Display the markdown\n",
    "def Display_func(url):\n",
    "    summary = summarize_text(url)\n",
    "    display(Markdown(summary))"
   ]
  },
  {
   "cell_type": "code",
   "execution_count": 55,
   "id": "78d5cddf-6037-4c3b-b2f9-c3014f55aeb5",
   "metadata": {},
   "outputs": [
    {
     "data": {
      "text/markdown": [
       "# Manu Venugopal's Website\n",
       "\n",
       "## Overview\n",
       "\n",
       "Manu Venugopal is an accomplished AI Engineer with extensive expertise in natural language processing (NLP), machine learning, and software engineering. The website outlines detailed information about Manu's educational background, professional experience, projects, skills, and testimonials from peers and mentors.\n",
       "\n",
       "## Education\n",
       "\n",
       "- **University of Aberdeen, UK**: MSc in Artificial Intelligence (2021-2022), actively participated in machine learning groups and DataLab events.\n",
       "- **University of Calicut, IND**: BTech in Computer Science (2007-2011), achieved accolades in code debugging and project presentation.\n",
       "\n",
       "## Professional Experience\n",
       "\n",
       "- **NLP Data Scientist (2023-Present)**: Pioneered advancements in deep learning models, NLP tasks, and model optimization, contributing to company revenue and client acquisition.\n",
       "- **Senior Software Engineer (2015-2021)**: Developed test automation systems and participated in cross-functional collaborations to improve business processes and customer segmentation.\n",
       "\n",
       "## Projects\n",
       "\n",
       "Manu has led numerous projects focusing on enhancing NLP capabilities, such as:\n",
       "\n",
       "- Few-shot classification models utilizing OpenAI.\n",
       "- Speech-to-text systems using OpenAI's Whisper.\n",
       "- Conversational chatbots with retrieval-augmented generation (RAG) approaches.\n",
       "- Business consultant applications with multi-agent systems.\n",
       "- Summarization and key-point extraction tools using GPT models.\n",
       "\n",
       "## Skills and Technologies\n",
       "\n",
       "Proficient in technologies including Python, C#, PyTorch, AWS, Azure, OpenAI, and Hugging Face models.\n",
       "\n",
       "## Testimonials\n",
       "\n",
       "Professional recommendations underscore Manu's expertise in AI and software development, and his collaborative spirit that drives successful project outcomes.\n",
       "\n",
       "## Additional Initiatives\n",
       "\n",
       "Manu is actively involved in open-source projects and encourages knowledge sharing within the tech community, reflecting his commitment to innovation and collaboration.\n",
       "\n",
       "For more information or inquiries, a contact form is available on the website."
      ],
      "text/plain": [
       "<IPython.core.display.Markdown object>"
      ]
     },
     "metadata": {},
     "output_type": "display_data"
    }
   ],
   "source": [
    "Display_func(\"https://manuvenugopal.com\")"
   ]
  },
  {
   "cell_type": "code",
   "execution_count": 59,
   "id": "5bc8a81b-9777-43d0-94b9-330e046324c2",
   "metadata": {},
   "outputs": [
    {
     "data": {
      "text/markdown": [
       "The website provides a detailed match report of the World Cup qualifier between Argentina and Brazil, where Argentina won 4-1. This victory secured Argentina's spot in the 2026 World Cup, making it Brazil's heaviest defeat in South American qualifying history. Key highlights include goals from Julian Alvarez and Enzo Fernandez, alongside significant contributions from Alexis Mac Allister and Giuliano Simeone.\n",
       "\n",
       "Brazil's lackluster performance, compounded by the absence of key players like Alisson Becker and Gabriel Magalhaes, contributed to the loss, with coach Dorival Junior facing mounting pressure following this result. The article also highlights the role of River Plate's academy in nurturing talent like Alvarez and Fernandez who were crucial in the match, continuing its tradition as a prominent source for the national team.\n",
       "\n",
       "Brazil's captain Marquinhos expressed embarrassment over the defeat, while tensions flared on field, notably involving Emiliano Martinez and various Brazilian players. The report also acknowledges the enthusiastic response from the Argentine side and their fans towards the victory."
      ],
      "text/plain": [
       "<IPython.core.display.Markdown object>"
      ]
     },
     "metadata": {},
     "output_type": "display_data"
    }
   ],
   "source": [
    "Display_func(\"https://www.skysports.com/football/argentina-vs-brazil/report/495407\")"
   ]
  },
  {
   "cell_type": "code",
   "execution_count": null,
   "id": "d7859dfb-4f17-4733-993b-84cb10a7783e",
   "metadata": {},
   "outputs": [],
   "source": []
  }
 ],
 "metadata": {
  "kernelspec": {
   "display_name": "Python 3 (ipykernel)",
   "language": "python",
   "name": "python3"
  },
  "language_info": {
   "codemirror_mode": {
    "name": "ipython",
    "version": 3
   },
   "file_extension": ".py",
   "mimetype": "text/x-python",
   "name": "python",
   "nbconvert_exporter": "python",
   "pygments_lexer": "ipython3",
   "version": "3.11.11"
  }
 },
 "nbformat": 4,
 "nbformat_minor": 5
}
